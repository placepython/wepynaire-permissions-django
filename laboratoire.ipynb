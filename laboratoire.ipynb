{
 "cells": [
  {
   "cell_type": "markdown",
   "id": "5d081417",
   "metadata": {},
   "source": [
    "# Mon cahier de labo django"
   ]
  },
  {
   "cell_type": "code",
   "execution_count": 1,
   "id": "94e866a0",
   "metadata": {},
   "outputs": [],
   "source": [
    "thierry = User.objects.first()\n",
    "guido = User.objects.get(username=\"guido\")\n",
    "jacob = User.objects.get(username=\"jacob\")"
   ]
  },
  {
   "cell_type": "code",
   "execution_count": 2,
   "id": "45224bc0",
   "metadata": {},
   "outputs": [
    {
     "data": {
      "text/plain": [
       "True"
      ]
     },
     "execution_count": 2,
     "metadata": {},
     "output_type": "execute_result"
    }
   ],
   "source": [
    "guido.has_perm(\"users.add_user\")"
   ]
  },
  {
   "cell_type": "code",
   "execution_count": 3,
   "id": "2e011596",
   "metadata": {},
   "outputs": [],
   "source": [
    "add_user = Permission.objects.get(codename=\"add_user\")\n",
    "change_user = Permission.objects.get(codename=\"change_user\")"
   ]
  },
  {
   "cell_type": "code",
   "execution_count": 4,
   "id": "b8f4262f",
   "metadata": {},
   "outputs": [],
   "source": [
    "guido.user_permissions.add(add_user)"
   ]
  },
  {
   "cell_type": "code",
   "execution_count": 5,
   "id": "462234c0",
   "metadata": {},
   "outputs": [],
   "source": [
    "guido.user_permissions.add(change_user)"
   ]
  },
  {
   "cell_type": "code",
   "execution_count": 6,
   "id": "7a7b87b5",
   "metadata": {},
   "outputs": [
    {
     "data": {
      "text/plain": [
       "False"
      ]
     },
     "execution_count": 6,
     "metadata": {},
     "output_type": "execute_result"
    }
   ],
   "source": [
    "guido.has_perm(\"companies.add_company\")"
   ]
  },
  {
   "cell_type": "code",
   "execution_count": 7,
   "id": "4d07ada0",
   "metadata": {},
   "outputs": [],
   "source": [
    "from guardian.shortcuts import assign_perm"
   ]
  },
  {
   "cell_type": "code",
   "execution_count": 9,
   "id": "88839e0b",
   "metadata": {},
   "outputs": [],
   "source": [
    "placepython = Company.objects.get(name=\"PlacePython\")"
   ]
  },
  {
   "cell_type": "code",
   "execution_count": 10,
   "id": "a01f61f9",
   "metadata": {},
   "outputs": [
    {
     "data": {
      "text/plain": [
       "<UserObjectPermission: Company object (1) | guido | view_company>"
      ]
     },
     "execution_count": 10,
     "metadata": {},
     "output_type": "execute_result"
    }
   ],
   "source": [
    "assign_perm(\"companies.change_company\", guido, placepython)\n",
    "assign_perm(\"companies.view_company\", guido, placepython)"
   ]
  },
  {
   "cell_type": "code",
   "execution_count": 17,
   "id": "6a39851f",
   "metadata": {},
   "outputs": [],
   "source": [
    "projet = Project.objects.get(title=\"Organiser les wepynaires du mois de mai\")"
   ]
  },
  {
   "cell_type": "code",
   "execution_count": 18,
   "id": "e3435935",
   "metadata": {},
   "outputs": [
    {
     "data": {
      "text/plain": [
       "<UserObjectPermission: Project object (1) | guido | view_project>"
      ]
     },
     "execution_count": 18,
     "metadata": {},
     "output_type": "execute_result"
    }
   ],
   "source": [
    "assign_perm('companies.view_project', guido, projet)"
   ]
  },
  {
   "cell_type": "code",
   "execution_count": 19,
   "id": "7bf5391a",
   "metadata": {},
   "outputs": [
    {
     "data": {
      "text/plain": [
       "<UserObjectPermission: Project object (1) | guido | change_project>"
      ]
     },
     "execution_count": 19,
     "metadata": {},
     "output_type": "execute_result"
    }
   ],
   "source": [
    "assign_perm('companies.change_project', guido, projet)"
   ]
  },
  {
   "cell_type": "code",
   "execution_count": 20,
   "id": "03640388",
   "metadata": {},
   "outputs": [
    {
     "data": {
      "text/plain": [
       "<UserObjectPermission: Project object (1) | guido | close_project>"
      ]
     },
     "execution_count": 20,
     "metadata": {},
     "output_type": "execute_result"
    }
   ],
   "source": [
    "assign_perm('close_project', guido, projet)"
   ]
  },
  {
   "cell_type": "code",
   "execution_count": 23,
   "id": "8012e512",
   "metadata": {},
   "outputs": [
    {
     "data": {
      "text/plain": [
       "False"
      ]
     },
     "execution_count": 23,
     "metadata": {},
     "output_type": "execute_result"
    }
   ],
   "source": [
    "guido.has_perm('close_project')"
   ]
  },
  {
   "cell_type": "code",
   "execution_count": null,
   "id": "610c9d76",
   "metadata": {},
   "outputs": [],
   "source": [
    "{% if perms.companies.change_project %}\n",
    "    ...\n",
    "{% endif %}"
   ]
  }
 ],
 "metadata": {
  "kernelspec": {
   "display_name": "Django Shell-Plus",
   "language": "python",
   "name": "django_extensions"
  },
  "language_info": {
   "codemirror_mode": {
    "name": "ipython",
    "version": 3
   },
   "file_extension": ".py",
   "mimetype": "text/x-python",
   "name": "python",
   "nbconvert_exporter": "python",
   "pygments_lexer": "ipython3",
   "version": "3.11.2"
  }
 },
 "nbformat": 4,
 "nbformat_minor": 5
}
